{
 "cells": [
  {
   "cell_type": "code",
   "execution_count": null,
   "id": "4985c55d",
   "metadata": {},
   "outputs": [],
   "source": [
    "# numpy exercises\n",
    "\n",
    "This is a collection of exercises that have been collected in the numpy mailing list, on stack overflow\n",
    "and in the numpy documentation. The goal of this collection is to offer a quick reference for both old\n",
    "and new users but also to provide a set of exercises for those who teach.\n",
    "\n",
    "\n",
    "If you find an error or think you've a better way to solve some of them, feel\n",
    "free to open an issue at <https://github.com/rougier/numpy-100>.\n",
    "File automatically generated. See the documentation to update questions/answers/hints programmatically.\n",
    "\n",
    "#### 1. Import the numpy package under the name `np` (★☆☆)\n",
    "`hint: import … as`\n",
    "\n",
    "#### 2. Create a null vector of size 10 (★☆☆)\n",
    "`hint: np.zeros`\n",
    "\n",
    "#### 3. Create a null vector of size 10 but the fifth value which is 1 (★☆☆)\n",
    "`hint: array[4]`\n",
    "\n",
    "#### 4. Create a vector with values ranging from 10 to 49 (★☆☆)\n",
    "`hint: arange`\n",
    "\n",
    "#### 5. Create a 3x3 matrix with values ranging from 0 to 8 (★☆☆)\n",
    "`hint: reshape`\n",
    "\n",
    "#### 6. Find indices of non-zero elements from [1,2,0,0,4,0] (★☆☆)\n",
    "`hint: np.nonzero`\n",
    "\n",
    "#### 7. Create a 3x3 identity matrix (★☆☆)\n",
    "`hint: np.eye`\n",
    "\n",
    "#### 8. Create a 3x3x3 array with random values (★☆☆)\n",
    "`hint: np.random.random`\n",
    "\n",
    "#### 9. Create a 10x10 array with random values and find the minimum and maximum values (★☆☆)\n",
    "`hint: min, max`\n",
    "\n",
    "#### 10. Create a random vector of size 30 and find the mean value (★☆☆)\n",
    "`hint: mean`\n",
    "\n",
    "#### 11. Create a 5x5 matrix with values 1,2,3,4 just below the diagonal (★☆☆)\n",
    "`hint: np.diag`\n",
    "\n",
    "#### 12. Normalize a 5x5 random matrix (★☆☆)\n",
    "`hint: (x -mean)/std`\n",
    "\n",
    "#### 13. How to find common values between two arrays? (★☆☆)\n",
    "`hint: np.intersect1d`\n",
    "\n",
    "#### 14. Create a random vector of size 10 and sort it (★★☆)\n",
    "`hint: sort`\n",
    "\n",
    "#### 15. Create random vector of size 10 and replace the maximum value by 0 (★★☆)\n",
    "`hint: argmax`\n",
    "\n",
    "#### 16. Subtract the mean of each row of a matrix (★★☆)\n",
    "`hint: mean(axis=,keepdims=)`\n",
    "\n",
    "#### 17. How to get the n largest values of an array (★★★)\n",
    "`Z = np.arange(10000)\n",
    "np.random.shuffle(Z)\n",
    "n = 5\n",
    "hint: np.argsort | np.argpartition`\n",
    "\n",
    "#### 18. Create a random 5*3 matrix and replace items that are larger than 4 by their squares ( Example:  6 --> 36) \n",
    "`hint: np.where`\n"
   ]
  },
  {
   "cell_type": "code",
   "execution_count": 1,
   "id": "5091f66f",
   "metadata": {},
   "outputs": [],
   "source": [
    "import numpy as np"
   ]
  },
  {
   "cell_type": "code",
   "execution_count": 2,
   "id": "ac71dbcb",
   "metadata": {},
   "outputs": [
    {
     "name": "stdout",
     "output_type": "stream",
     "text": [
      "[0. 0. 0. 0. 0. 0. 0. 0. 0. 0.]\n"
     ]
    }
   ],
   "source": [
    "null_vector = np.zeros(10)\n",
    "print(null_vector)\n"
   ]
  },
  {
   "cell_type": "code",
   "execution_count": 3,
   "id": "9477b04a",
   "metadata": {},
   "outputs": [
    {
     "name": "stdout",
     "output_type": "stream",
     "text": [
      "[0. 0. 0. 0. 1. 0. 0. 0. 0. 0.]\n"
     ]
    }
   ],
   "source": [
    "null_vector_fifth_one = np.zeros(10)\n",
    "null_vector_fifth_one[4]=1\n",
    "print(null_vector_fifth_one)"
   ]
  },
  {
   "cell_type": "code",
   "execution_count": 7,
   "id": "f8df5921",
   "metadata": {},
   "outputs": [
    {
     "data": {
      "text/plain": [
       "array([10, 11, 12, 13, 14, 15, 16, 17, 18, 19, 20, 21, 22, 23, 24, 25, 26,\n",
       "       27, 28, 29, 30, 31, 32, 33, 34, 35, 36, 37, 38, 39, 40, 41, 42, 43,\n",
       "       44, 45, 46, 47, 48, 49])"
      ]
     },
     "execution_count": 7,
     "metadata": {},
     "output_type": "execute_result"
    }
   ],
   "source": [
    "np.arange(10, 50)"
   ]
  },
  {
   "cell_type": "code",
   "execution_count": 12,
   "id": "3abaadcb",
   "metadata": {},
   "outputs": [
    {
     "name": "stdout",
     "output_type": "stream",
     "text": [
      "[[0 1 2]\n",
      " [3 4 5]\n",
      " [6 7 8]]\n"
     ]
    }
   ],
   "source": [
    "matrix = np.arange(0, 9).reshape((3,3))\n",
    "print(matrix)"
   ]
  },
  {
   "cell_type": "code",
   "execution_count": 13,
   "id": "660ec785",
   "metadata": {},
   "outputs": [
    {
     "data": {
      "text/plain": [
       "(array([0, 1, 4]),)"
      ]
     },
     "execution_count": 13,
     "metadata": {},
     "output_type": "execute_result"
    }
   ],
   "source": [
    "x = [1,2,0,0,4,0]\n",
    "np.nonzero(x)"
   ]
  },
  {
   "cell_type": "code",
   "execution_count": 16,
   "id": "24812303",
   "metadata": {},
   "outputs": [
    {
     "name": "stdout",
     "output_type": "stream",
     "text": [
      "[[1. 0. 0.]\n",
      " [0. 1. 0.]\n",
      " [0. 0. 1.]]\n"
     ]
    }
   ],
   "source": [
    "identity_matrix = np.eye(3)\n",
    "print(identity_matrix)\n"
   ]
  },
  {
   "cell_type": "code",
   "execution_count": 17,
   "id": "25305db8",
   "metadata": {},
   "outputs": [
    {
     "data": {
      "text/plain": [
       "array([[[0.49460165, 0.2280831 , 0.25547392],\n",
       "        [0.39632991, 0.3773151 , 0.99657423],\n",
       "        [0.4081972 , 0.77189399, 0.76053669]],\n",
       "\n",
       "       [[0.31000935, 0.3465412 , 0.35176482],\n",
       "        [0.14546686, 0.97266468, 0.90917844],\n",
       "        [0.5599571 , 0.31359075, 0.88820004]],\n",
       "\n",
       "       [[0.67457307, 0.39108745, 0.50718412],\n",
       "        [0.5241035 , 0.92800093, 0.57137307],\n",
       "        [0.66833757, 0.05225869, 0.3270573 ]]])"
      ]
     },
     "execution_count": 17,
     "metadata": {},
     "output_type": "execute_result"
    }
   ],
   "source": [
    "np.random.seed(50)\n",
    "a = np.random.random((3,3,3))\n",
    "a"
   ]
  },
  {
   "cell_type": "code",
   "execution_count": 18,
   "id": "1b66b519",
   "metadata": {},
   "outputs": [
    {
     "data": {
      "text/plain": [
       "array([[0.49460165, 0.2280831 , 0.25547392, 0.39632991, 0.3773151 ,\n",
       "        0.99657423, 0.4081972 , 0.77189399, 0.76053669, 0.31000935],\n",
       "       [0.3465412 , 0.35176482, 0.14546686, 0.97266468, 0.90917844,\n",
       "        0.5599571 , 0.31359075, 0.88820004, 0.67457307, 0.39108745],\n",
       "       [0.50718412, 0.5241035 , 0.92800093, 0.57137307, 0.66833757,\n",
       "        0.05225869, 0.3270573 , 0.05640164, 0.17982769, 0.92593317],\n",
       "       [0.93801522, 0.71409271, 0.73268761, 0.46174768, 0.93132927,\n",
       "        0.40642024, 0.68320577, 0.64991587, 0.59876518, 0.22203939],\n",
       "       [0.68235717, 0.8780563 , 0.79671726, 0.43200225, 0.91787822,\n",
       "        0.78183368, 0.72575028, 0.12485469, 0.91630845, 0.38771099],\n",
       "       [0.29492955, 0.61673141, 0.46784623, 0.25533891, 0.83899589,\n",
       "        0.1786192 , 0.22711417, 0.65987645, 0.47911625, 0.07344734],\n",
       "       [0.13896007, 0.11230718, 0.47778497, 0.54029623, 0.95807105,\n",
       "        0.58379231, 0.52666409, 0.92226269, 0.91925702, 0.25200886],\n",
       "       [0.68263261, 0.96427612, 0.22696165, 0.7160172 , 0.79776011,\n",
       "        0.9367512 , 0.8537225 , 0.42154581, 0.00543987, 0.03486533],\n",
       "       [0.01390537, 0.58890993, 0.3829931 , 0.11481895, 0.86445401,\n",
       "        0.82165703, 0.73749168, 0.84034417, 0.4015291 , 0.74862   ],\n",
       "       [0.55962945, 0.61323757, 0.29810165, 0.60237917, 0.42567684,\n",
       "        0.53854438, 0.48672986, 0.49989164, 0.91745948, 0.26287702]])"
      ]
     },
     "execution_count": 18,
     "metadata": {},
     "output_type": "execute_result"
    }
   ],
   "source": [
    "np.random.seed(50)\n",
    "a2 = np.random.random((10,10))\n",
    "a2"
   ]
  },
  {
   "cell_type": "code",
   "execution_count": 23,
   "id": "10dba108",
   "metadata": {},
   "outputs": [
    {
     "data": {
      "text/plain": [
       "0.9965742301546493"
      ]
     },
     "execution_count": 23,
     "metadata": {},
     "output_type": "execute_result"
    }
   ],
   "source": [
    "a2.max()"
   ]
  },
  {
   "cell_type": "code",
   "execution_count": 24,
   "id": "ae49aaa7",
   "metadata": {},
   "outputs": [
    {
     "data": {
      "text/plain": [
       "0.005439868860820707"
      ]
     },
     "execution_count": 24,
     "metadata": {},
     "output_type": "execute_result"
    }
   ],
   "source": [
    "a2.min()"
   ]
  },
  {
   "cell_type": "code",
   "execution_count": 25,
   "id": "9b2103cb",
   "metadata": {},
   "outputs": [
    {
     "name": "stdout",
     "output_type": "stream",
     "text": [
      "[0.04969769 0.46269203 0.40821902 0.48704348 0.07051578 0.58210861\n",
      " 0.9870218  0.20908846 0.21237612 0.96113505]\n"
     ]
    }
   ],
   "source": [
    "random_vector = np.random.random(10)\n",
    "print(random_vector)"
   ]
  },
  {
   "cell_type": "code",
   "execution_count": 26,
   "id": "f876c140",
   "metadata": {},
   "outputs": [
    {
     "data": {
      "text/plain": [
       "0.442989803045627"
      ]
     },
     "execution_count": 26,
     "metadata": {},
     "output_type": "execute_result"
    }
   ],
   "source": [
    "np.mean(random_vector)"
   ]
  },
  {
   "cell_type": "code",
   "execution_count": 28,
   "id": "50c4441f",
   "metadata": {},
   "outputs": [
    {
     "name": "stdout",
     "output_type": "stream",
     "text": [
      "[[0 0 0 0 0]\n",
      " [0 1 0 0 0]\n",
      " [0 0 2 0 0]\n",
      " [0 0 0 3 0]\n",
      " [0 0 0 0 4]]\n"
     ]
    }
   ],
   "source": [
    "matrix_5_5 = np.diag([0, 1, 2, 3, 4])\n",
    "print(matrix_5_5)"
   ]
  },
  {
   "cell_type": "code",
   "execution_count": 32,
   "id": "a6a22bc3",
   "metadata": {},
   "outputs": [
    {
     "name": "stdout",
     "output_type": "stream",
     "text": [
      "Original Array:\n",
      "[[0.2507041  0.1338797  0.15077408 0.93903034 0.97145289]\n",
      " [0.14255659 0.19586501 0.10039784 0.08181247 0.76837567]\n",
      " [0.21035674 0.46217645 0.08401004 0.33150228 0.9883258 ]\n",
      " [0.90027204 0.8653286  0.38426349 0.70058469 0.03712971]\n",
      " [0.50132622 0.11389309 0.73368983 0.4368208  0.32698639]]\n",
      "After normalization:\n",
      "[[0.22453246 0.10171404 0.11947523 0.94817529 0.98226137]\n",
      " [0.11083612 0.16687969 0.06651429 0.04697535 0.76876469]\n",
      " [0.18211496 0.44685501 0.04928566 0.30947623 1.        ]\n",
      " [0.90742839 0.87069207 0.36494451 0.69749549 0.        ]\n",
      " [0.48801348 0.08070195 0.73229918 0.42019842 0.30472863]]\n"
     ]
    }
   ],
   "source": [
    "x= np.random.random((5,5))\n",
    "print(\"Original Array:\")\n",
    "print(x)\n",
    "xmax, xmin = x.max(), x.min()\n",
    "x_normalized = (x - xmin)/(xmax - xmin)\n",
    "print(\"After normalization:\")\n",
    "print(x_normalized)\n",
    "\n",
    "\n"
   ]
  },
  {
   "cell_type": "code",
   "execution_count": 33,
   "id": "ffbd639c",
   "metadata": {},
   "outputs": [
    {
     "name": "stdout",
     "output_type": "stream",
     "text": [
      "Array1:  [ 0 10 20 40 60]\n",
      "Array2:  [10, 30, 40]\n",
      "Common values between two arrays:\n",
      "[10 40]\n"
     ]
    }
   ],
   "source": [
    "array1 = np.array([0, 10, 20, 40, 60])\n",
    "print(\"Array1: \",array1)\n",
    "array2 = [10, 30, 40]\n",
    "print(\"Array2: \",array2)\n",
    "print(\"Common values between two arrays:\")\n",
    "print(np.intersect1d(array1, array2))"
   ]
  },
  {
   "cell_type": "code",
   "execution_count": 35,
   "id": "f6aaa282",
   "metadata": {},
   "outputs": [
    {
     "name": "stdout",
     "output_type": "stream",
     "text": [
      "Original array:\n",
      "[0.17089731 0.97912486 0.77506927 0.97215536 0.52546288 0.23845432\n",
      " 0.48513857 0.58924287 0.50048255 0.42967478]\n",
      "Sorted array:\n",
      "[0.17089731 0.23845432 0.42967478 0.48513857 0.50048255 0.52546288\n",
      " 0.58924287 0.77506927 0.97215536 0.97912486]\n"
     ]
    }
   ],
   "source": [
    "vector_10 = np.random.random(10)\n",
    "print(\"Original array:\")\n",
    "print(vector_10)\n",
    "vector_10.sort()\n",
    "print(\"Sorted array:\")\n",
    "print(vector_10)"
   ]
  },
  {
   "cell_type": "code",
   "execution_count": 36,
   "id": "7ef36ddc",
   "metadata": {},
   "outputs": [
    {
     "name": "stdout",
     "output_type": "stream",
     "text": [
      "Original array:\n",
      "[0.25084904 0.05742958 0.64337086 0.25149514 0.19150807 0.51069737\n",
      " 0.38072579 0.91691728 0.052225   0.37753971]\n",
      "Maximum value replaced by 0:\n",
      "[0.25084904 0.05742958 0.64337086 0.25149514 0.19150807 0.51069737\n",
      " 0.38072579 0.         0.052225   0.37753971]\n"
     ]
    }
   ],
   "source": [
    "vector_size_10 = np.random.random(10)\n",
    "print(\"Original array:\")\n",
    "print(vector_size_10)\n",
    "vector_size_10[vector_size_10.argmax()] = 0\n",
    "print(\"Maximum value replaced by 0:\")\n",
    "print(vector_size_10)"
   ]
  },
  {
   "cell_type": "code",
   "execution_count": 37,
   "id": "06512e95",
   "metadata": {},
   "outputs": [
    {
     "name": "stdout",
     "output_type": "stream",
     "text": [
      "Original matrix:\n",
      "\n",
      "[[0.49772142 0.57934039 0.80754723 0.89250305 0.47214697]\n",
      " [0.09868776 0.72744521 0.48904438 0.70245153 0.35734982]\n",
      " [0.19376319 0.33751561 0.54651098 0.95891554 0.91596329]\n",
      " [0.70668843 0.86573918 0.22818281 0.80168487 0.73913011]\n",
      " [0.1946778  0.14734561 0.36728392 0.35041886 0.1108308 ]\n",
      " [0.17002922 0.65791153 0.94652336 0.25547056 0.10940926]\n",
      " [0.78507242 0.48882333 0.61202074 0.89824815 0.39116821]\n",
      " [0.10817416 0.31668102 0.02025084 0.59322155 0.5845152 ]]\n",
      "\n",
      "Subtract the mean of each row of the said matrix:\n",
      "\n",
      "[[-0.15213039 -0.07051142  0.15769542  0.24265123 -0.17770484]\n",
      " [-0.37630798  0.25244947  0.01404864  0.22745579 -0.11764592]\n",
      " [-0.39677053 -0.25301811 -0.04402274  0.36838182  0.32542957]\n",
      " [ 0.03840335  0.1974541  -0.44010227  0.13339979  0.07084503]\n",
      " [-0.0394336  -0.08676579  0.13317252  0.11630746 -0.1232806 ]\n",
      " [-0.25783956  0.23004274  0.51865457 -0.17239823 -0.31845952]\n",
      " [ 0.15000585 -0.14624324 -0.02304583  0.26318158 -0.24389837]\n",
      " [-0.2163944  -0.00788753 -0.30431771  0.26865299  0.25994665]]\n"
     ]
    }
   ],
   "source": [
    "print(\"Original matrix:\\n\")\n",
    "X = np.random.rand(8, 5)\n",
    "print(X)\n",
    "print(\"\\nSubtract the mean of each row of the said matrix:\\n\")\n",
    "Y = X - X.mean(axis=1, keepdims=True)\n",
    "print(Y)"
   ]
  },
  {
   "cell_type": "code",
   "execution_count": 50,
   "id": "0e154a60",
   "metadata": {},
   "outputs": [
    {
     "name": "stdout",
     "output_type": "stream",
     "text": [
      "Given array: [5869 7826 9435 ... 2176 9884 7657]\n",
      "Sorted array: [   0    1    2 ... 9997 9998 9999]\n",
      "5 largest values: [9995 9996 9997 9998 9999]\n"
     ]
    }
   ],
   "source": [
    "Z = np.arange(10000)\n",
    "np.random.shuffle(Z)\n",
    "\n",
    "print(\"Given array:\", Z)\n",
    "  \n",
    "sorted_index_array = np.argsort(Z)\n",
    "  \n",
    "sorted_array = Z[sorted_index_array]\n",
    "  \n",
    "print(\"Sorted array:\", sorted_array)\n",
    "  \n",
    "# we want 5 largest values\n",
    "n = 5\n",
    "\n",
    "top5 = np.argpartition(sorted_array, -n)[-n:]\n",
    "print(\"5 largest values:\", top5)\n",
    "\n",
    "  \n"
   ]
  },
  {
   "cell_type": "code",
   "execution_count": null,
   "id": "7760a950",
   "metadata": {},
   "outputs": [],
   "source": [
    "#18. Create a random 5*3 matrix and replace items that are larger than 4 by their squares ( Example:  6 --> 36) \n",
    "#`hint: np.where`\n",
    " "
   ]
  },
  {
   "cell_type": "code",
   "execution_count": 56,
   "id": "027807b5",
   "metadata": {},
   "outputs": [
    {
     "name": "stdout",
     "output_type": "stream",
     "text": [
      "[[0.5488135  0.71518937 0.60276338]\n",
      " [0.54488318 0.4236548  0.64589411]\n",
      " [0.43758721 0.891773   0.96366276]\n",
      " [0.38344152 0.79172504 0.52889492]\n",
      " [0.56804456 0.92559664 0.07103606]]\n"
     ]
    }
   ],
   "source": [
    "np.random.seed(0)\n",
    "random_matrix = np.random.random((5,3))\n",
    "print(random_matrix)\n",
    "\n"
   ]
  },
  {
   "cell_type": "code",
   "execution_count": null,
   "id": "3159034c",
   "metadata": {},
   "outputs": [],
   "source": [
    "np.where(random_matrix > 4, random_matrix, random_matrix**)"
   ]
  },
  {
   "cell_type": "code",
   "execution_count": 57,
   "id": "a77b41fd",
   "metadata": {},
   "outputs": [],
   "source": [
    "import pandas as pd"
   ]
  },
  {
   "cell_type": "code",
   "execution_count": null,
   "id": "28461427",
   "metadata": {},
   "outputs": [],
   "source": []
  }
 ],
 "metadata": {
  "kernelspec": {
   "display_name": "Python 3 (ipykernel)",
   "language": "python",
   "name": "python3"
  },
  "language_info": {
   "codemirror_mode": {
    "name": "ipython",
    "version": 3
   },
   "file_extension": ".py",
   "mimetype": "text/x-python",
   "name": "python",
   "nbconvert_exporter": "python",
   "pygments_lexer": "ipython3",
   "version": "3.9.7"
  }
 },
 "nbformat": 4,
 "nbformat_minor": 5
}
