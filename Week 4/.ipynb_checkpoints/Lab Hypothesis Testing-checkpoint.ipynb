{
 "cells": [
  {
   "cell_type": "markdown",
   "id": "82c39409",
   "metadata": {},
   "source": [
    "Lab | Hypothesis Testing"
   ]
  },
  {
   "cell_type": "markdown",
   "id": "8543bbfa",
   "metadata": {},
   "source": [
    "Instructions"
   ]
  },
  {
   "cell_type": "markdown",
   "id": "571bc383",
   "metadata": {},
   "source": [
    "It is assumed that the mean systolic blood pressure is μ = 120 mm Hg. In the Honolulu Heart Study, a sample of n = 100 people had an average systolic blood pressure of 130.1 mm Hg with a standard deviation of 21.21 mm Hg. \n",
    "\n",
    "\n",
    "\n"
   ]
  },
  {
   "cell_type": "code",
   "execution_count": 2,
   "id": "aba97a8a",
   "metadata": {},
   "outputs": [],
   "source": [
    "import numpy as np\n",
    "import pandas as pd\n",
    "import scipy.stats as stats\n",
    "import matplotlib.pyplot as plt\n",
    "import seaborn as sns\n",
    "\n",
    "%matplotlib inline"
   ]
  },
  {
   "cell_type": "markdown",
   "id": "8829d4a6",
   "metadata": {},
   "source": [
    "Is the group significantly different (with respect to systolic blood pressure!) from the regular population?"
   ]
  },
  {
   "cell_type": "markdown",
   "id": "f5d2e809",
   "metadata": {},
   "source": [
    "Set up the hypothesis test."
   ]
  },
  {
   "cell_type": "code",
   "execution_count": 5,
   "id": "a79ef1d5",
   "metadata": {},
   "outputs": [],
   "source": [
    "n = 100 # 45 > 30 -> Normal distribution\n",
    "# Ho: \\mp = 120\n",
    "# Ha: mean != 120\n",
    "\n",
    "sample_mean = 130.1\n",
    "pop_mean = 120\n",
    "pop_std_dev = 21.21"
   ]
  },
  {
   "cell_type": "markdown",
   "id": "b4a064fc",
   "metadata": {},
   "source": [
    "Write down all the steps followed for setting up the test."
   ]
  },
  {
   "cell_type": "code",
   "execution_count": 12,
   "id": "f920b6fd",
   "metadata": {},
   "outputs": [
    {
     "name": "stdout",
     "output_type": "stream",
     "text": [
      "Our z score is: 4.76\n"
     ]
    }
   ],
   "source": [
    "# Computing the test statistic.\n",
    "t = ( sample_mean - pop_mean ) / ( pop_std_dev / np.sqrt(100) )\n",
    "print(\"Our z score is: {:.2f}\".format(t))"
   ]
  },
  {
   "cell_type": "code",
   "execution_count": 16,
   "id": "86e2e270",
   "metadata": {},
   "outputs": [
    {
     "name": "stdout",
     "output_type": "stream",
     "text": [
      "The critical value corresponding to a 0.95 area of a normal distribution is: 1.98\n"
     ]
    }
   ],
   "source": [
    "#Computing the critical value of the corresponding distribution\n",
    "tc = stats.t.ppf(1-(0.05/2),df=99)  \n",
    "print(\"The critical value corresponding to a 0.95 area of a normal distribution is: {:.2f}\".format(tc))"
   ]
  },
  {
   "cell_type": "markdown",
   "id": "df3321a4",
   "metadata": {},
   "source": [
    "Calculate the test statistic by hand and also code it in Python. It should be 4.76190. What decision can you make based on this calculated value?"
   ]
  },
  {
   "cell_type": "markdown",
   "id": "b6174239",
   "metadata": {},
   "source": [
    "Since 4.76 > 1.98, we **reject** the null hypothesis. The sample mean is diferent from the population mean. "
   ]
  },
  {
   "cell_type": "code",
   "execution_count": 1,
   "id": "fc240e87",
   "metadata": {},
   "outputs": [],
   "source": [
    "#To look in the table I should go to the degree 99 and chech the critical value in column 0.25"
   ]
  },
  {
   "cell_type": "code",
   "execution_count": null,
   "id": "b6dd8b76",
   "metadata": {},
   "outputs": [],
   "source": []
  }
 ],
 "metadata": {
  "kernelspec": {
   "display_name": "Python 3 (ipykernel)",
   "language": "python",
   "name": "python3"
  },
  "language_info": {
   "codemirror_mode": {
    "name": "ipython",
    "version": 3
   },
   "file_extension": ".py",
   "mimetype": "text/x-python",
   "name": "python",
   "nbconvert_exporter": "python",
   "pygments_lexer": "ipython3",
   "version": "3.9.7"
  }
 },
 "nbformat": 4,
 "nbformat_minor": 5
}
