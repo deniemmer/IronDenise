{
 "cells": [
  {
   "cell_type": "code",
   "execution_count": 1,
   "id": "5dd95690",
   "metadata": {},
   "outputs": [
    {
     "name": "stdout",
     "output_type": "stream",
     "text": [
      "[0, 56, 89, 36, 79, 64, 98, 13, 88, 37, 49, 44, 38, 16, 67, 7, 66, 41, 42, 92, 2, 34, 65, 61, 1, 97, 46, 58, 29, 15, 83, 55, 72, 75, 11, 74, 69, 63, 23, 9, 28, 5, 91, 51, 52, 57, 86, 62, 25, 50, 96, 14, 35, 4, 48, 84, 90, 45, 73, 10, 43, 24, 20, 32, 6, 95, 71, 17, 68, 39, 99, 33, 40, 30, 87, 60, 47, 18, 22, 81]\n"
     ]
    }
   ],
   "source": [
    "import random\n",
    "sample_list_1 = random.sample(range(100), 80)\n",
    "print(sample_list_1)"
   ]
  },
  {
   "cell_type": "code",
   "execution_count": 4,
   "id": "6aaf0052",
   "metadata": {},
   "outputs": [
    {
     "name": "stdout",
     "output_type": "stream",
     "text": [
      "[0, 56, 89, 36, 79, 64, 98, 13, 88, 37, 49, 44, 38, 16, 67, 7, 66, 41, 42, 92, 2, 34, 65, 61, 1, 97, 46, 58, 29, 15, 83, 55, 72, 75, 11, 74, 69, 63, 23, 9, 28, 5, 91, 51, 52, 57, 86, 62, 25, 50, 96, 14, 35, 4, 48, 84, 90, 45, 73, 10, 43, 24, 20, 32, 6, 95, 71, 17, 68, 39, 99, 33, 40, 30, 87, 60, 47, 18, 22, 81]\n"
     ]
    }
   ],
   "source": [
    "sample_list_1 = [0, 56, 89, 36, 79, 64, 98, 13, 88, 37, 49, 44, 38, 16, 67, 7, 66, 41, 42, 92, 2, 34, 65, 61, 1, 97, 46, 58, 29, 15, 83, 55, 72, 75, 11, 74, 69, 63, 23, 9, 28, 5, 91, 51, 52, 57, 86, 62, 25, 50, 96, 14, 35, 4, 48, 84, 90, 45, 73, 10, 43, 24, 20, 32, 6, 95, 71, 17, 68, 39, 99, 33, 40, 30, 87, 60, 47, 18, 22, 81]\n",
    "print(sample_list_1)"
   ]
  },
  {
   "cell_type": "code",
   "execution_count": 6,
   "id": "d84e04ff",
   "metadata": {},
   "outputs": [
    {
     "name": "stdout",
     "output_type": "stream",
     "text": [
      "{0, 1, 2, 4, 5, 6, 7, 9, 10, 11, 13, 14, 15, 16, 17, 18, 20, 22, 23, 24, 25, 28, 29, 30, 32, 33, 34, 35, 36, 37, 38, 39, 40, 41, 42, 43, 44, 45, 46, 47, 48, 49, 50, 51, 52, 55, 56, 57, 58, 60, 61, 62, 63, 64, 65, 66, 67, 68, 69, 71, 72, 73, 74, 75, 79, 81, 83, 84, 86, 87, 88, 89, 90, 91, 92, 95, 96, 97, 98, 99}\n"
     ]
    }
   ],
   "source": [
    "set1 = set(sample_list_1)\n",
    "\n",
    "print(set1)"
   ]
  },
  {
   "cell_type": "code",
   "execution_count": 8,
   "id": "ed271e2a",
   "metadata": {},
   "outputs": [
    {
     "name": "stdout",
     "output_type": "stream",
     "text": [
      "[98, 50, 8, 42, 85, 97, 15, 82, 74, 30, 4, 34, 98, 89, 78, 64, 81, 68, 99, 36, 76, 11, 18, 71, 86, 1, 35, 20, 73, 98, 93, 66, 29, 34, 59, 68, 1, 61, 67, 45, 62, 85, 100, 88, 86, 80, 51, 56, 64, 90, 66, 48, 61, 46, 5, 9, 94, 77, 51, 14, 49, 60, 80, 54, 52, 20, 36, 7, 67, 47, 13, 32, 58, 35, 93, 55, 42, 96, 32, 79]\n"
     ]
    }
   ],
   "source": [
    "sample_list_2 = []\n",
    "for i in range(80):\n",
    "    sample_list_2.append(random.randint(1,100))\n",
    "print(sample_list_2)"
   ]
  },
  {
   "cell_type": "code",
   "execution_count": null,
   "id": "dfa6ce07",
   "metadata": {},
   "outputs": [],
   "source": []
  }
 ],
 "metadata": {
  "kernelspec": {
   "display_name": "Python 3 (ipykernel)",
   "language": "python",
   "name": "python3"
  },
  "language_info": {
   "codemirror_mode": {
    "name": "ipython",
    "version": 3
   },
   "file_extension": ".py",
   "mimetype": "text/x-python",
   "name": "python",
   "nbconvert_exporter": "python",
   "pygments_lexer": "ipython3",
   "version": "3.9.7"
  }
 },
 "nbformat": 4,
 "nbformat_minor": 5
}
